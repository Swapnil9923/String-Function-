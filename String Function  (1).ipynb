{
 "cells": [
  {
   "cell_type": "code",
   "execution_count": null,
   "id": "b975b94e-dd6b-4993-9bb8-1afa6e413793",
   "metadata": {},
   "outputs": [],
   "source": []
  },
  {
   "cell_type": "markdown",
   "id": "69e2e184-fcbc-4920-af41-9293fb343f4d",
   "metadata": {},
   "source": [
    "# Case fold #\n",
    "## use case ##\n",
    "The casefold() method returns a string where all the characters are lower case"
   ]
  },
  {
   "cell_type": "code",
   "execution_count": 34,
   "id": "e5da13ac-d45e-4065-aeab-8d29a16a1fb9",
   "metadata": {},
   "outputs": [
    {
     "name": "stdout",
     "output_type": "stream",
     "text": [
      "hello, and welcome to my world \n",
      " my age is 25 \n"
     ]
    }
   ],
   "source": [
    "\n",
    "\n",
    "\n",
    "\n",
    "txt = \"Hello, And Welcome To My World \"\n",
    "\n",
    "x = txt.casefold()\n",
    "\n",
    "print(x)\n",
    "\n",
    "\n",
    "txt = \" My Age is 25 \"\n",
    "\n",
    "x = txt.casefold()\n",
    "\n",
    "print(x)\n",
    "\n"
   ]
  },
  {
   "cell_type": "markdown",
   "id": "75037b35-b737-4e90-8dd2-29214d4c080f",
   "metadata": {},
   "source": [
    "# Centre #\n",
    "## Use case ##\n",
    "method will center align the string, using a specified character (space is default) as the fill character.\r\n",
    "\r\n"
   ]
  },
  {
   "cell_type": "code",
   "execution_count": 61,
   "id": "664a62e3-90b2-4b49-afc8-c4d8de336609",
   "metadata": {},
   "outputs": [
    {
     "name": "stdout",
     "output_type": "stream",
     "text": [
      "       banana       \n",
      "OOOOOOFootballOOOOOO\n"
     ]
    }
   ],
   "source": [
    "\n",
    "\n",
    "txt = \"banana\"\n",
    "\n",
    "x = txt.center(20)\n",
    "\n",
    "print(x)\n",
    "\n",
    "\n",
    "txt = \"Football\"\n",
    "\n",
    "x = txt.center(20,\"O\")\n",
    "\n",
    "print(x)\r\n",
    "\r\n"
   ]
  },
  {
   "cell_type": "code",
   "execution_count": null,
   "id": "c6d640fc-44ee-4342-bc6a-89fb5a3479a1",
   "metadata": {},
   "outputs": [],
   "source": []
  },
  {
   "cell_type": "markdown",
   "id": "cffbc0d2-537f-4487-b1c9-cf6807888b16",
   "metadata": {},
   "source": [
    "# Count #\n",
    "## Use case ##\n",
    "The count() method returns the number of times a specified value appears in the string."
   ]
  },
  {
   "cell_type": "code",
   "execution_count": 71,
   "id": "5a841555-7408-48ce-9e94-e22f33216699",
   "metadata": {},
   "outputs": [
    {
     "name": "stdout",
     "output_type": "stream",
     "text": [
      "2\n",
      "8\n"
     ]
    }
   ],
   "source": [
    " txt = \" Ronaldo plays football , he is the best footballer in the world \"\n",
    "x = txt.count(\"football\")\n",
    "print (x)\n",
    "\n",
    "txt = \" james,where john had had 'had' had 'had had' had had \"\n",
    "\n",
    "x = txt.count(\"had\")\n",
    "\n",
    "print (x)\n"
   ]
  },
  {
   "cell_type": "code",
   "execution_count": null,
   "id": "cdd8d112-93c2-4648-8ca1-2d89b01d2ba8",
   "metadata": {},
   "outputs": [],
   "source": []
  },
  {
   "cell_type": "markdown",
   "id": "bd3a1dd8-463a-44de-bdc2-07b7ba92a84a",
   "metadata": {},
   "source": [
    "# Encode #\n",
    "## Use Case ## \n",
    "The encode() method encodes the string, using the specified encoding\n"
   ]
  },
  {
   "cell_type": "code",
   "execution_count": 84,
   "id": "aab6e102-bcf4-48bd-9d4e-3a5ed189423a",
   "metadata": {},
   "outputs": [
    {
     "name": "stdout",
     "output_type": "stream",
     "text": [
      "b' Marshmallow'\n",
      "b' My Fav bike is triumph rocket '\n"
     ]
    }
   ],
   "source": [
    "txt = \" Marshmallow\"\n",
    "\n",
    "x = txt.encode()\n",
    "\n",
    "print(x)\n",
    "\n",
    "txt = \" My Fav bike is triumph rocket \"\n",
    "\n",
    "x = txt.encode()    \n",
    "\n",
    "print(x)"
   ]
  },
  {
   "cell_type": "code",
   "execution_count": null,
   "id": "7d46cac6-e1a1-4a9b-be50-cd10f5419461",
   "metadata": {},
   "outputs": [],
   "source": []
  },
  {
   "cell_type": "markdown",
   "id": "bc98d723-d48e-4603-9330-76986dbd72cc",
   "metadata": {},
   "source": [
    "# endswith #\n",
    "## use case ##\n",
    "ethod returns True if the string ends with the specified value, otherwise False."
   ]
  },
  {
   "cell_type": "code",
   "execution_count": 94,
   "id": "d91afe04-07c5-4cf9-82d2-e63cf990baae",
   "metadata": {},
   "outputs": [
    {
     "name": "stdout",
     "output_type": "stream",
     "text": [
      "True\n",
      "False\n"
     ]
    }
   ],
   "source": [
    "txt = \" Hello, welcome to jurassic park.\"\n",
    "\n",
    "x = txt.endswith(\".\")\n",
    "\n",
    "print (x)\n",
    "\n",
    "\n",
    "txt = \" you must be the change you wish to see in the world?\"\n",
    "x = txt.endswith(\"in the world\")\n",
    "print (x)"
   ]
  },
  {
   "cell_type": "code",
   "execution_count": null,
   "id": "3294cbfb-3533-4517-a1db-374a4f722f74",
   "metadata": {},
   "outputs": [],
   "source": []
  },
  {
   "cell_type": "markdown",
   "id": "c22ba1be-5253-45e3-b61e-9ea93ee0be18",
   "metadata": {},
   "source": [
    "# Expandtabs # \n",
    "## Use case ##\n",
    "The expandtabs() method sets the tab size to the specified number of whitespaces.\r\n",
    "\r\n"
   ]
  },
  {
   "cell_type": "markdown",
   "id": "2c7c2cad-5a3e-4196-a172-1570243f7a4b",
   "metadata": {},
   "source": [
    "txt = \"H\\te\\tl\\tl\\to\"\n",
    "\n",
    "x = txt.expandtabs(2)\n",
    "\n",
    "print (x)\n",
    "\n",
    "txt = \"S\\te\\tl\\tl\\to\"\n",
    "\n",
    "x = txt.expandtabs(2)\n",
    "print(x)"
   ]
  },
  {
   "cell_type": "markdown",
   "id": "89c298bd-a619-4c09-b3e5-89258836a00f",
   "metadata": {},
   "source": [
    "# Find #\n",
    "## Use Case ##\n",
    "finds the first occurrence of the specified value"
   ]
  },
  {
   "cell_type": "code",
   "execution_count": 125,
   "id": "dc0f4b9b-f62a-4a4c-b9ec-13bd65af5473",
   "metadata": {},
   "outputs": [
    {
     "name": "stdout",
     "output_type": "stream",
     "text": [
      "9\n",
      "1\n"
     ]
    }
   ],
   "source": [
    "txt = \" Hello , welcome to the world of Data.\"\n",
    "x = txt.find(\"welcome\")\n",
    "print (x)\n",
    "\n",
    "txt = \" Ronaldo is the face of world football\"\n",
    "x = txt.find(\"Ronaldo\")\n",
    "print(x)\n",
    "      "
   ]
  },
  {
   "cell_type": "code",
   "execution_count": null,
   "id": "53a04f4c-5d84-4242-9e88-fa442be51bb9",
   "metadata": {},
   "outputs": [],
   "source": []
  },
  {
   "cell_type": "markdown",
   "id": "526d3233-80b3-4f8e-ba24-58b37a904aec",
   "metadata": {},
   "source": [
    "# Format #\n",
    "## Use case ##\n",
    " format string is used to control how strings, numbers, or decimals are displayed."
   ]
  },
  {
   "cell_type": "code",
   "execution_count": 153,
   "id": "644ce52d-8e52-4a6b-a448-0d1191d08dea",
   "metadata": {},
   "outputs": [
    {
     "name": "stdout",
     "output_type": "stream",
     "text": [
      " for only 49.00dollars!\n"
     ]
    }
   ],
   "source": [
    "txt =\" for only {price:.2f}dollars!\"\n",
    "print(txt.format(price=49))\n",
    "\n",
    "                                      "
   ]
  },
  {
   "cell_type": "code",
   "execution_count": null,
   "id": "e18b71c5-e1c1-4e10-8210-ea0be49fb4b9",
   "metadata": {},
   "outputs": [],
   "source": []
  },
  {
   "cell_type": "markdown",
   "id": "c5013988-ba42-4294-8571-a78d915c66aa",
   "metadata": {},
   "source": [
    "# Index #\n",
    "## Use Case ##\n",
    "method finds the first occurrence of the specified value"
   ]
  },
  {
   "cell_type": "code",
   "execution_count": 164,
   "id": "f432e5f1-5300-4121-93b5-195feb825394",
   "metadata": {},
   "outputs": [
    {
     "name": "stdout",
     "output_type": "stream",
     "text": [
      "13\n",
      "9\n"
     ]
    }
   ],
   "source": [
    "txt = \" Hello Moto, welcome to wolrd\"\n",
    "x = txt.index(\"welcome\")\n",
    "print(x)\n",
    "\n",
    "txt = \" Ronaldo is just awesome\"\n",
    "x =txt.index(\"is\")\n",
    "print(x)"
   ]
  },
  {
   "cell_type": "code",
   "execution_count": null,
   "id": "31db6f6c-4fe2-4e97-9698-f7da437d63a1",
   "metadata": {},
   "outputs": [],
   "source": []
  },
  {
   "cell_type": "markdown",
   "id": "0b34373b-01fd-4e2b-8860-da436f43a32d",
   "metadata": {},
   "source": [
    "# isalnum #\n",
    "## Use case ## \n",
    "method returns True if all the characters are alphanumeric, meaning alphabet letter (a-z) and numbers (0-9)."
   ]
  },
  {
   "cell_type": "code",
   "execution_count": 167,
   "id": "2de64c3c-c585-4dde-b884-b5317760caeb",
   "metadata": {},
   "outputs": [
    {
     "name": "stdout",
     "output_type": "stream",
     "text": [
      "True\n",
      "True\n"
     ]
    }
   ],
   "source": [
    "txt = \"Swapnil9923\"\n",
    "x= txt.isalnum()\n",
    "print(x)\n",
    "\n",
    "txt = \"CR7\"\n",
    "x = txt.isalnum()\n",
    "print(x)"
   ]
  },
  {
   "cell_type": "code",
   "execution_count": null,
   "id": "f4106692-095a-4b3f-8e78-dcc292e2bb40",
   "metadata": {},
   "outputs": [],
   "source": []
  },
  {
   "cell_type": "markdown",
   "id": "35759dae-ba82-4a0a-ad75-c41e12060817",
   "metadata": {},
   "source": [
    "# isalpha #\n",
    "## Use case ##\n",
    "The isalpha() method returns True if all the characters are alphabet letters (a-z)"
   ]
  },
  {
   "cell_type": "code",
   "execution_count": 8,
   "id": "1149ccb8-0136-4ccc-aeb5-c15d8b9b17e7",
   "metadata": {},
   "outputs": [
    {
     "name": "stdout",
     "output_type": "stream",
     "text": [
      "False\n",
      "True\n"
     ]
    }
   ],
   "source": [
    "txt = \" Swapnil \"\n",
    "x = txt.isalpha()\n",
    "print(x)\n",
    "\n",
    "txt = \"CompanyX\"\n",
    "x = txt.isalpha()\n",
    "print(x)"
   ]
  },
  {
   "cell_type": "code",
   "execution_count": null,
   "id": "c86cb405-98c9-4a39-b4c1-732766db858f",
   "metadata": {},
   "outputs": [],
   "source": []
  },
  {
   "cell_type": "markdown",
   "id": "b89420f4-e3cb-46f4-82b2-c897e81dc71e",
   "metadata": {},
   "source": [
    "# Rpartition #\n",
    "## Use case ##\n",
    "The rpartition() method in Python is used to split a string into three parts based on the last occurrence of a specified separator\n",
    "\n",
    "The first element contains the part before the specified string.\r\n",
    "\r\n",
    "The second element contains the specified string.\r\n",
    "\r\n",
    "The third element contains the part after the string."
   ]
  },
  {
   "cell_type": "code",
   "execution_count": 16,
   "id": "c913f683-1f4c-4a7b-a06c-b0f27b520993",
   "metadata": {},
   "outputs": [
    {
     "name": "stdout",
     "output_type": "stream",
     "text": [
      "('I could eat bananas all day, ', 'bananas', ' are my favorite fruit')\n",
      "(' I can play football all day, ', 'football', ' is my favourite game ')\n"
     ]
    }
   ],
   "source": [
    "txt = \"I could eat bananas all day, bananas are my favorite fruit\"\n",
    "x = txt.rpartition(\"bananas\")\n",
    "\n",
    "print(x)\n",
    "\n",
    "txt = \" I can play football all day, football is my favourite game \"\n",
    "x = txt.rpartition(\"football\")\n",
    "print(x)\n"
   ]
  },
  {
   "cell_type": "code",
   "execution_count": null,
   "id": "3b75533a-37ca-4b47-abf3-e2a0cf29cf13",
   "metadata": {},
   "outputs": [],
   "source": []
  },
  {
   "cell_type": "markdown",
   "id": "6dc5125f-a077-4e10-9963-beda985d5424",
   "metadata": {},
   "source": [
    "# splitlines #\n",
    "## Use case ##\n",
    "The splitlines() method splits a string into a list. The splitting is done at line breaks."
   ]
  },
  {
   "cell_type": "code",
   "execution_count": 22,
   "id": "be63c1b9-bc26-4106-84fe-1643aaf6f6f1",
   "metadata": {},
   "outputs": [
    {
     "name": "stdout",
     "output_type": "stream",
     "text": [
      "[' All the best', 'welcome to the corporate ']\n",
      "[' You', 'me will go for a party ']\n"
     ]
    }
   ],
   "source": [
    "txt = \" All the best\\nwelcome to the corporate \"\n",
    "x = txt.splitlines()\n",
    "print(x) \n",
    "\n",
    "txt = \" You\\nme will go for a party \"\n",
    "x =txt.splitlines()\n",
    "print(x)\n",
    "     "
   ]
  },
  {
   "cell_type": "code",
   "execution_count": null,
   "id": "5b9bd341-2de0-41c5-bd7b-679cdb10c167",
   "metadata": {},
   "outputs": [],
   "source": []
  },
  {
   "cell_type": "markdown",
   "id": "f8b27458-25cf-439c-b0a4-c68248939ec5",
   "metadata": {},
   "source": [
    "# Swapcase #\n",
    "## Use case ##\n",
    "The swapcase() method returns a string where all the upper case letters are lower case and vice versa.\r\n",
    "\r\n"
   ]
  },
  {
   "cell_type": "code",
   "execution_count": 25,
   "id": "607c30d8-c80f-4ace-9f1c-b1f0e0331d14",
   "metadata": {},
   "outputs": [
    {
     "name": "stdout",
     "output_type": "stream",
     "text": [
      " i AM bATMAN \n"
     ]
    }
   ],
   "source": [
    "txt = \" I am Batman \"\n",
    "x = txt.swapcase()\n",
    "print(x)"
   ]
  },
  {
   "cell_type": "code",
   "execution_count": null,
   "id": "27858f29-f46f-4252-bbd8-b8fd16f47edd",
   "metadata": {},
   "outputs": [],
   "source": []
  },
  {
   "cell_type": "markdown",
   "id": "c9c24d7f-ddc9-4061-9ed8-547cfe88ea46",
   "metadata": {},
   "source": [
    "# Startwith #\n",
    "## Use case ##\n",
    "The startswith  method returns True if the string starts with the specified value, otherwise False."
   ]
  },
  {
   "cell_type": "code",
   "execution_count": 31,
   "id": "2456a098-f788-4db6-9291-d5547fcd2e82",
   "metadata": {},
   "outputs": [
    {
     "name": "stdout",
     "output_type": "stream",
     "text": [
      "False\n"
     ]
    }
   ],
   "source": [
    "txt =\" Hello, How are you \"\n",
    "x =txt.startswith(\"Hello\")\n",
    "print(x)"
   ]
  },
  {
   "cell_type": "code",
   "execution_count": null,
   "id": "b3b87818-fe4a-4053-aa58-598b6feb2582",
   "metadata": {},
   "outputs": [],
   "source": []
  }
 ],
 "metadata": {
  "kernelspec": {
   "display_name": "Python 3 (ipykernel)",
   "language": "python",
   "name": "python3"
  },
  "language_info": {
   "codemirror_mode": {
    "name": "ipython",
    "version": 3
   },
   "file_extension": ".py",
   "mimetype": "text/x-python",
   "name": "python",
   "nbconvert_exporter": "python",
   "pygments_lexer": "ipython3",
   "version": "3.12.4"
  }
 },
 "nbformat": 4,
 "nbformat_minor": 5
}
